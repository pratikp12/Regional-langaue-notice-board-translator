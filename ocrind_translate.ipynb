{
  "nbformat": 4,
  "nbformat_minor": 0,
  "metadata": {
    "colab": {
      "name": "ocrind-translate.ipynb",
      "provenance": [],
      "collapsed_sections": [],
      "authorship_tag": "ABX9TyNfILuRCFFIu1cyDlLCIgBk",
      "include_colab_link": true
    },
    "kernelspec": {
      "name": "python3",
      "display_name": "Python 3"
    },
    "language_info": {
      "name": "python"
    }
  },
  "cells": [
    {
      "cell_type": "markdown",
      "metadata": {
        "id": "view-in-github",
        "colab_type": "text"
      },
      "source": [
        "<a href=\"https://colab.research.google.com/github/pratikp12/Regional-language-notice-board-translator/blob/main/ocrind_translate.ipynb\" target=\"_parent\"><img src=\"https://colab.research.google.com/assets/colab-badge.svg\" alt=\"Open In Colab\"/></a>"
      ]
    },
    {
      "cell_type": "code",
      "metadata": {
        "colab": {
          "base_uri": "https://localhost:8080/"
        },
        "id": "pvCgrQWvPSYD",
        "outputId": "52a5f5a2-d883-4918-ad12-14eb2a20f1fd"
      },
      "source": [
        "\n",
        "!pip install easyocr\n",
        "!pip install googletrans==3.1.0a0\n",
        "!wget https://live.staticflickr.com/8014/7568844308_962bd7370c_b.jpg"
      ],
      "execution_count": 2,
      "outputs": [
        {
          "output_type": "stream",
          "name": "stdout",
          "text": [
            "Requirement already satisfied: easyocr in /usr/local/lib/python3.7/dist-packages (1.4.1)\n",
            "Requirement already satisfied: torchvision>=0.5 in /usr/local/lib/python3.7/dist-packages (from easyocr) (0.10.0+cu102)\n",
            "Requirement already satisfied: opencv-python-headless in /usr/local/lib/python3.7/dist-packages (from easyocr) (4.5.3.56)\n",
            "Requirement already satisfied: Pillow<8.3.0 in /usr/local/lib/python3.7/dist-packages (from easyocr) (7.1.2)\n",
            "Requirement already satisfied: scipy in /usr/local/lib/python3.7/dist-packages (from easyocr) (1.4.1)\n",
            "Requirement already satisfied: python-bidi in /usr/local/lib/python3.7/dist-packages (from easyocr) (0.4.2)\n",
            "Requirement already satisfied: scikit-image in /usr/local/lib/python3.7/dist-packages (from easyocr) (0.16.2)\n",
            "Requirement already satisfied: numpy in /usr/local/lib/python3.7/dist-packages (from easyocr) (1.19.5)\n",
            "Requirement already satisfied: torch in /usr/local/lib/python3.7/dist-packages (from easyocr) (1.9.0+cu102)\n",
            "Requirement already satisfied: PyYAML in /usr/local/lib/python3.7/dist-packages (from easyocr) (3.13)\n",
            "Requirement already satisfied: typing-extensions in /usr/local/lib/python3.7/dist-packages (from torch->easyocr) (3.7.4.3)\n",
            "Requirement already satisfied: six in /usr/local/lib/python3.7/dist-packages (from python-bidi->easyocr) (1.15.0)\n",
            "Requirement already satisfied: imageio>=2.3.0 in /usr/local/lib/python3.7/dist-packages (from scikit-image->easyocr) (2.4.1)\n",
            "Requirement already satisfied: networkx>=2.0 in /usr/local/lib/python3.7/dist-packages (from scikit-image->easyocr) (2.6.2)\n",
            "Requirement already satisfied: matplotlib!=3.0.0,>=2.0.0 in /usr/local/lib/python3.7/dist-packages (from scikit-image->easyocr) (3.2.2)\n",
            "Requirement already satisfied: PyWavelets>=0.4.0 in /usr/local/lib/python3.7/dist-packages (from scikit-image->easyocr) (1.1.1)\n",
            "Requirement already satisfied: pyparsing!=2.0.4,!=2.1.2,!=2.1.6,>=2.0.1 in /usr/local/lib/python3.7/dist-packages (from matplotlib!=3.0.0,>=2.0.0->scikit-image->easyocr) (2.4.7)\n",
            "Requirement already satisfied: python-dateutil>=2.1 in /usr/local/lib/python3.7/dist-packages (from matplotlib!=3.0.0,>=2.0.0->scikit-image->easyocr) (2.8.2)\n",
            "Requirement already satisfied: kiwisolver>=1.0.1 in /usr/local/lib/python3.7/dist-packages (from matplotlib!=3.0.0,>=2.0.0->scikit-image->easyocr) (1.3.1)\n",
            "Requirement already satisfied: cycler>=0.10 in /usr/local/lib/python3.7/dist-packages (from matplotlib!=3.0.0,>=2.0.0->scikit-image->easyocr) (0.10.0)\n",
            "Requirement already satisfied: googletrans==3.1.0a0 in /usr/local/lib/python3.7/dist-packages (3.1.0a0)\n",
            "Requirement already satisfied: httpx==0.13.3 in /usr/local/lib/python3.7/dist-packages (from googletrans==3.1.0a0) (0.13.3)\n",
            "Requirement already satisfied: chardet==3.* in /usr/local/lib/python3.7/dist-packages (from httpx==0.13.3->googletrans==3.1.0a0) (3.0.4)\n",
            "Requirement already satisfied: idna==2.* in /usr/local/lib/python3.7/dist-packages (from httpx==0.13.3->googletrans==3.1.0a0) (2.10)\n",
            "Requirement already satisfied: hstspreload in /usr/local/lib/python3.7/dist-packages (from httpx==0.13.3->googletrans==3.1.0a0) (2021.9.1)\n",
            "Requirement already satisfied: httpcore==0.9.* in /usr/local/lib/python3.7/dist-packages (from httpx==0.13.3->googletrans==3.1.0a0) (0.9.1)\n",
            "Requirement already satisfied: rfc3986<2,>=1.3 in /usr/local/lib/python3.7/dist-packages (from httpx==0.13.3->googletrans==3.1.0a0) (1.5.0)\n",
            "Requirement already satisfied: certifi in /usr/local/lib/python3.7/dist-packages (from httpx==0.13.3->googletrans==3.1.0a0) (2021.5.30)\n",
            "Requirement already satisfied: sniffio in /usr/local/lib/python3.7/dist-packages (from httpx==0.13.3->googletrans==3.1.0a0) (1.2.0)\n",
            "Requirement already satisfied: h2==3.* in /usr/local/lib/python3.7/dist-packages (from httpcore==0.9.*->httpx==0.13.3->googletrans==3.1.0a0) (3.2.0)\n",
            "Requirement already satisfied: h11<0.10,>=0.8 in /usr/local/lib/python3.7/dist-packages (from httpcore==0.9.*->httpx==0.13.3->googletrans==3.1.0a0) (0.9.0)\n",
            "Requirement already satisfied: hpack<4,>=3.0 in /usr/local/lib/python3.7/dist-packages (from h2==3.*->httpcore==0.9.*->httpx==0.13.3->googletrans==3.1.0a0) (3.0.0)\n",
            "Requirement already satisfied: hyperframe<6,>=5.2.0 in /usr/local/lib/python3.7/dist-packages (from h2==3.*->httpcore==0.9.*->httpx==0.13.3->googletrans==3.1.0a0) (5.2.0)\n",
            "--2021-09-17 11:45:09--  https://live.staticflickr.com/8014/7568844308_962bd7370c_b.jpg\n",
            "Resolving live.staticflickr.com (live.staticflickr.com)... 99.84.192.159, 2600:9000:201f:e800:0:5a51:64c9:c681, 2600:9000:201f:2000:0:5a51:64c9:c681, ...\n",
            "Connecting to live.staticflickr.com (live.staticflickr.com)|99.84.192.159|:443... connected.\n",
            "HTTP request sent, awaiting response... 200 OK\n",
            "Length: unspecified [image/jpeg]\n",
            "Saving to: ‘7568844308_962bd7370c_b.jpg’\n",
            "\n",
            "7568844308_962bd737     [ <=>                ] 130.11K  --.-KB/s    in 0.02s   \n",
            "\n",
            "2021-09-17 11:45:09 (8.27 MB/s) - ‘7568844308_962bd7370c_b.jpg’ saved [133237]\n",
            "\n"
          ]
        }
      ]
    },
    {
      "cell_type": "code",
      "metadata": {
        "colab": {
          "base_uri": "https://localhost:8080/"
        },
        "id": "Qr0nZb32m5W8",
        "outputId": "155d7fa3-6d08-4774-a722-08e6418738b7"
      },
      "source": [
        "!wget https://live.staticflickr.com/8014/7568844308_962bd7370c_b.jpg -O /content/image3.jpg"
      ],
      "execution_count": 11,
      "outputs": [
        {
          "output_type": "stream",
          "name": "stdout",
          "text": [
            "--2021-09-17 11:59:26--  https://live.staticflickr.com/8014/7568844308_962bd7370c_b.jpg\n",
            "Resolving live.staticflickr.com (live.staticflickr.com)... 99.84.192.159, 2600:9000:20c5:f200:0:5a51:64c9:c681, 2600:9000:20c5:9800:0:5a51:64c9:c681, ...\n",
            "Connecting to live.staticflickr.com (live.staticflickr.com)|99.84.192.159|:443... connected.\n",
            "HTTP request sent, awaiting response... 200 OK\n",
            "Length: unspecified [image/jpeg]\n",
            "Saving to: ‘/content/image3.jpg’\n",
            "\n",
            "\r/content/image3.jpg     [<=>                 ]       0  --.-KB/s               \r/content/image3.jpg     [ <=>                ] 130.11K  --.-KB/s    in 0.02s   \n",
            "\n",
            "2021-09-17 11:59:26 (8.22 MB/s) - ‘/content/image3.jpg’ saved [133237]\n",
            "\n"
          ]
        }
      ]
    },
    {
      "cell_type": "code",
      "metadata": {
        "id": "GojO0a50Pfha"
      },
      "source": [
        "import matplotlib.pyplot as plt\n",
        "import cv2\n",
        "import easyocr\n",
        "from pylab import rcParams\n",
        "from IPython.display import Image"
      ],
      "execution_count": 6,
      "outputs": []
    },
    {
      "cell_type": "code",
      "metadata": {
        "colab": {
          "base_uri": "https://localhost:8080/"
        },
        "id": "oTEm5tEmPh4s",
        "outputId": "dcef3065-2e3d-497f-b0ef-de1c936879f3"
      },
      "source": [
        "rcParams['figure.figsize'] = 8, 16\n",
        "reader = easyocr.Reader(['en','mr'])\n",
        "file_name = \"image3.jpg\"\n",
        "Image(file_name)\n",
        "output = reader.readtext(file_name)\n",
        "output"
      ],
      "execution_count": 12,
      "outputs": [
        {
          "output_type": "stream",
          "name": "stderr",
          "text": [
            "CUDA not available - defaulting to CPU. Note: This module is much faster with a GPU.\n",
            "/usr/local/lib/python3.7/dist-packages/torch/nn/functional.py:718: UserWarning: Named tensors and all their associated APIs are an experimental feature and subject to change. Please do not use them for anything important until they are released as stable. (Triggered internally at  /pytorch/c10/core/TensorImpl.h:1156.)\n",
            "  return torch.max_pool2d(input, kernel_size, stride, padding, dilation, ceil_mode)\n"
          ]
        },
        {
          "output_type": "execute_result",
          "data": {
            "text/plain": [
              "[([[103, 88], [934, 88], [934, 175], [103, 175]],\n",
              "  'संबंधित सुजाण मित्रांसाटी विशेष सुचना',\n",
              "  0.5621431326373985),\n",
              " ([[249, 183], [859, 183], [859, 276], [249, 276]],\n",
              "  'व्यवसायाची जागा आहे',\n",
              "  0.6583658488009128),\n",
              " ([[187, 299], [847, 299], [847, 387], [187, 387]],\n",
              "  'गप्पांसाठीचा अड्डा नाही',\n",
              "  0.4396086459051765),\n",
              " ([[164, 408], [872, 408], [872, 465], [164, 465]],\n",
              "  'स्टाफ इथे कामासाठी येतो, गप्पा मारण्यासाठी नाही',\n",
              "  0.581407630456156),\n",
              " ([[117, 547], [917, 547], [917, 608], [117, 608]],\n",
              "  'विचार करा तुमच्या नोकरीच्या ठिकाणी तुमचा बॉस अश्या',\n",
              "  0.5607424213297094),\n",
              " ([[335, 601], [693, 601], [693, 663], [335, 663]],\n",
              "  'गोष्टी खपवुन घेईल का?',\n",
              "  0.9502857982612544),\n",
              " ([[678, 674], [842, 674], [842, 706], [678, 706]],\n",
              "  '14/7/2012',\n",
              "  0.7698384196079756),\n",
              " ([[870, 673], [966, 673], [966, 705], [870, 705]],\n",
              "  '२२ :०8',\n",
              "  0.549316698444405)]"
            ]
          },
          "metadata": {},
          "execution_count": 12
        }
      ]
    },
    {
      "cell_type": "code",
      "metadata": {
        "colab": {
          "base_uri": "https://localhost:8080/"
        },
        "id": "ZGNabVhPPp13",
        "outputId": "25a15c1d-ffc2-4d4b-ae73-cf5fa1876ba3"
      },
      "source": [
        "text=''\n",
        "for i in range(len(output)):\n",
        "  print(output[i][1])\n",
        "  text=text+' '+ output[i][1]"
      ],
      "execution_count": 13,
      "outputs": [
        {
          "output_type": "stream",
          "name": "stdout",
          "text": [
            "संबंधित सुजाण मित्रांसाटी विशेष सुचना\n",
            "व्यवसायाची जागा आहे\n",
            "गप्पांसाठीचा अड्डा नाही\n",
            "स्टाफ इथे कामासाठी येतो, गप्पा मारण्यासाठी नाही\n",
            "विचार करा तुमच्या नोकरीच्या ठिकाणी तुमचा बॉस अश्या\n",
            "गोष्टी खपवुन घेईल का?\n",
            "14/7/2012\n",
            "२२ :०8\n"
          ]
        }
      ]
    },
    {
      "cell_type": "code",
      "metadata": {
        "id": "P_3sipeGUedu"
      },
      "source": [
        "text=text[:-16]"
      ],
      "execution_count": 14,
      "outputs": []
    },
    {
      "cell_type": "code",
      "metadata": {
        "colab": {
          "base_uri": "https://localhost:8080/"
        },
        "id": "GCbPGLM-aH-s",
        "outputId": "1a005fea-8f8b-4a68-f8dc-80d97318f87b"
      },
      "source": [
        "import googletrans\n",
        "\n",
        "print(googletrans.LANGUAGES)"
      ],
      "execution_count": 15,
      "outputs": [
        {
          "output_type": "stream",
          "name": "stdout",
          "text": [
            "{'af': 'afrikaans', 'sq': 'albanian', 'am': 'amharic', 'ar': 'arabic', 'hy': 'armenian', 'az': 'azerbaijani', 'eu': 'basque', 'be': 'belarusian', 'bn': 'bengali', 'bs': 'bosnian', 'bg': 'bulgarian', 'ca': 'catalan', 'ceb': 'cebuano', 'ny': 'chichewa', 'zh-cn': 'chinese (simplified)', 'zh-tw': 'chinese (traditional)', 'co': 'corsican', 'hr': 'croatian', 'cs': 'czech', 'da': 'danish', 'nl': 'dutch', 'en': 'english', 'eo': 'esperanto', 'et': 'estonian', 'tl': 'filipino', 'fi': 'finnish', 'fr': 'french', 'fy': 'frisian', 'gl': 'galician', 'ka': 'georgian', 'de': 'german', 'el': 'greek', 'gu': 'gujarati', 'ht': 'haitian creole', 'ha': 'hausa', 'haw': 'hawaiian', 'iw': 'hebrew', 'he': 'hebrew', 'hi': 'hindi', 'hmn': 'hmong', 'hu': 'hungarian', 'is': 'icelandic', 'ig': 'igbo', 'id': 'indonesian', 'ga': 'irish', 'it': 'italian', 'ja': 'japanese', 'jw': 'javanese', 'kn': 'kannada', 'kk': 'kazakh', 'km': 'khmer', 'ko': 'korean', 'ku': 'kurdish (kurmanji)', 'ky': 'kyrgyz', 'lo': 'lao', 'la': 'latin', 'lv': 'latvian', 'lt': 'lithuanian', 'lb': 'luxembourgish', 'mk': 'macedonian', 'mg': 'malagasy', 'ms': 'malay', 'ml': 'malayalam', 'mt': 'maltese', 'mi': 'maori', 'mr': 'marathi', 'mn': 'mongolian', 'my': 'myanmar (burmese)', 'ne': 'nepali', 'no': 'norwegian', 'or': 'odia', 'ps': 'pashto', 'fa': 'persian', 'pl': 'polish', 'pt': 'portuguese', 'pa': 'punjabi', 'ro': 'romanian', 'ru': 'russian', 'sm': 'samoan', 'gd': 'scots gaelic', 'sr': 'serbian', 'st': 'sesotho', 'sn': 'shona', 'sd': 'sindhi', 'si': 'sinhala', 'sk': 'slovak', 'sl': 'slovenian', 'so': 'somali', 'es': 'spanish', 'su': 'sundanese', 'sw': 'swahili', 'sv': 'swedish', 'tg': 'tajik', 'ta': 'tamil', 'te': 'telugu', 'th': 'thai', 'tr': 'turkish', 'uk': 'ukrainian', 'ur': 'urdu', 'ug': 'uyghur', 'uz': 'uzbek', 'vi': 'vietnamese', 'cy': 'welsh', 'xh': 'xhosa', 'yi': 'yiddish', 'yo': 'yoruba', 'zu': 'zulu'}\n"
          ]
        }
      ]
    },
    {
      "cell_type": "code",
      "metadata": {
        "colab": {
          "base_uri": "https://localhost:8080/"
        },
        "id": "QNm_IcsmaLjY",
        "outputId": "1dd48312-a93f-450d-84be-c1c6dba51a15"
      },
      "source": [
        "from googletrans import Translator\n",
        "\n",
        "translator = Translator()\n",
        "result = translator.translate(text, src='mr', dest='en')\n",
        "\n",
        "print(result.src)\n",
        "print(result.dest)\n",
        "print(result.text)\n"
      ],
      "execution_count": 16,
      "outputs": [
        {
          "output_type": "stream",
          "name": "stdout",
          "text": [
            "mr\n",
            "en\n",
            "Special Suggestions for Relevant Sujan Friends There is a place for business No chat room Staff come here for work, not to chat Think your boss will tolerate such things in your work place?\n"
          ]
        }
      ]
    },
    {
      "cell_type": "markdown",
      "metadata": {
        "id": "2pkAeGTMln2x"
      },
      "source": [
        "from textblob import TextBlob <br>\n",
        "blob = TextBlob('जब तक खुद पर ना बीते, लोगों को दूसरों के दर्द का एहसास नहीं होता...')<br>\n",
        "blob.translate(to='mr')<br>\n",
        ">>TextBlob(\"जोपर्यंत इतरांचे दुखणे स्वतःवर खर्च होत नाही तोपर्यंत लोकांना कळत नाही.\")"
      ]
    }
  ]
}